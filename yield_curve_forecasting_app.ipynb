{
 "cells": [
  {
   "cell_type": "markdown",
   "metadata": {},
   "source": [
    "# EFFECT OF FEDERAL FUNDS RATE CHANGE ON YIELD CURVES"
   ]
  },
  {
   "cell_type": "markdown",
   "metadata": {},
   "source": [
    "## Yield Curve Forecasting Model : DeepAR Algorithm"
   ]
  },
  {
   "cell_type": "markdown",
   "metadata": {},
   "source": [
    "- In this project, the goal is to forecast yield curves of interest rates with any change in Federal funds rate, assuming other factors remain constant. To accomplish the goal, global DeepAR models are built, one for each of the following asset categories - treasury constant maturity, corporate bond and swap rates. The model inputs interest rate data along with expected Federal funds rate change so as to predict the expected yield curve, assuming other factors remain constant.\n",
    "- Since the frequency of corporate bond spot rate data is monthly, other asset category also has been resampled into monthly frequency to maintain uniformity to compare expected yield curves of different asset categories\n",
    "- After conducting literature review for selecting an algorithm to forecast yield curve, Deep Autoregressive model(DeepAR) is more suitable over traditional statistical model like SARIMAX and Prophet (by Facebook) for the following reasons:\n",
    "\n",
    " 1. Since multiple timeseries needs to be forecasted to plot each yield curve, it is more efficient to build a global model for all the timeseries belonging to a particular asset type (eg: treasury yields etc) rather than for each timeseries\n",
    " 2. Since it is a probabilistic model, it is possible to easily quantify the uncertanity of forecasted values and create a confidence band (with required degree of confidence) around the yield curve, helping the end user to make better decision\n",
    "        \n",
    "##### Readings:\n",
    "- https://arxiv.org/pdf/1704.04110.pdf\n",
    "- https://gluon-ts.mxnet.io/api/gluonts/gluonts.model.deepar.html\n",
    "    "
   ]
  },
  {
   "cell_type": "code",
   "execution_count": 1,
   "metadata": {
    "ExecuteTime": {
     "end_time": "2020-05-16T19:47:41.995304Z",
     "start_time": "2020-05-16T19:47:41.992312Z"
    },
    "scrolled": true
   },
   "outputs": [],
   "source": [
    "# #install following dependencies\n",
    "\n",
    "# !pip install --upgrade mxnet==1.6 gluonts\n",
    "# !sudo pip install gluonts \n",
    "# !pip install dash\n",
    "# !pip install plotly\n",
    "# !pip install pandas\n",
    "# !pip install matplotlib"
   ]
  },
  {
   "cell_type": "code",
   "execution_count": 2,
   "metadata": {
    "ExecuteTime": {
     "end_time": "2020-05-16T19:47:46.362144Z",
     "start_time": "2020-05-16T19:47:41.997298Z"
    }
   },
   "outputs": [
    {
     "name": "stderr",
     "output_type": "stream",
     "text": [
      "/home/bhargavakumar/anaconda3/lib/python3.7/site-packages/ipykernel_launcher.py:13: DeprecationWarning: gluonts.trainer is deprecated. Use gluonts.mx.trainer instead.\n",
      "  del sys.path[0]\n"
     ]
    }
   ],
   "source": [
    "import numpy as np\n",
    "import pandas as pd\n",
    "import matplotlib.pyplot as plt\n",
    "import json\n",
    "from pathlib import Path\n",
    "import os\n",
    "from collections import OrderedDict \n",
    "\n",
    "import mxnet as mx\n",
    "from mxnet import gluon\n",
    "from gluonts.dataset.common import ListDataset\n",
    "from gluonts.model.deepar import DeepAREstimator\n",
    "from gluonts.trainer import Trainer\n",
    "from gluonts.model.predictor import Predictor\n",
    "\n",
    "import dash\n",
    "import dash_core_components as dcc\n",
    "import dash_html_components as html\n",
    "from dash.dependencies import Input, Output, State\n",
    "import plotly.graph_objs as go"
   ]
  },
  {
   "cell_type": "code",
   "execution_count": 3,
   "metadata": {
    "ExecuteTime": {
     "end_time": "2020-05-16T19:47:46.371118Z",
     "start_time": "2020-05-16T19:47:46.363139Z"
    }
   },
   "outputs": [],
   "source": [
    "# import parameters from config file in libs folder\n",
    "\n",
    "from libs.config import *"
   ]
  },
  {
   "cell_type": "code",
   "execution_count": 4,
   "metadata": {
    "ExecuteTime": {
     "end_time": "2020-05-16T19:47:46.386078Z",
     "start_time": "2020-05-16T19:47:46.373119Z"
    }
   },
   "outputs": [],
   "source": [
    "# importing treasury constant maturity rate, corporate bond spot rate and swap rate csv files and \n",
    "# creating a dictionary of dataframes\n",
    "\n",
    "def import_data():\n",
    "    \"\"\"Function to import interest rate data from csv files \n",
    "\n",
    "    Returns:\n",
    "        int_rate_asset_df_dict : dictionary of all interest rate dataframes \n",
    "        int_rate_asset_dict : dictionary containing list of assets of each asset category \n",
    "    \"\"\"\n",
    "    # empty dictionary \n",
    "    int_rate_asset_df_dict = dict()\n",
    "    int_rate_asset_dict = dict()\n",
    "\n",
    "    # import interest rate csv files\n",
    "    for int_rate_csv in Path.cwd().rglob('*.csv'):\n",
    "        int_rate_df = pd.read_csv(\n",
    "            int_rate_csv.absolute(), parse_dates=True, index_col=0)\n",
    "\n",
    "        # dictionary of all csv files\n",
    "        int_rate_asset_df_dict[int_rate_csv.stem] = int_rate_df.copy()\n",
    "        \n",
    "        #store asset category\n",
    "        asset_category = int_rate_csv.parts[-2]\n",
    "        \n",
    "        # excluding fed funds in int_rate_asset_dict\n",
    "        if int_rate_csv.stem != 'fed_funds':\n",
    "            if not asset_category in int_rate_asset_dict.keys():\n",
    "                int_rate_asset_dict[asset_category] = list()\n",
    "\n",
    "            int_rate_asset_dict[asset_category].append(int_rate_csv.stem)\n",
    "\n",
    "    return int_rate_asset_df_dict, int_rate_asset_dict"
   ]
  },
  {
   "cell_type": "code",
   "execution_count": 5,
   "metadata": {
    "ExecuteTime": {
     "end_time": "2020-05-16T19:47:46.393069Z",
     "start_time": "2020-05-16T19:47:46.387076Z"
    }
   },
   "outputs": [],
   "source": [
    "def pre_processing(data_dict):\n",
    "    \"\"\"Function to pre-process raw dataframes\n",
    "    \n",
    "    Parameters:\n",
    "        data_dict : dictionary of all interest rate dataframes \n",
    "    \n",
    "    Returns:\n",
    "        resampled_df_dict : dictionary of pre-processed dataframes\n",
    "    \"\"\"\n",
    "    # skipping feature scaling as the range of input values are small and as gluonts library can handle it internally\n",
    "\n",
    "    # resampling yield timeseries to monthly timeframe\n",
    "    resampled_fed_df = int_rate_asset_df_dict['fed_funds'].astype(\n",
    "        float).resample('MS').mean()\n",
    "\n",
    "    resampled_df_dict = dict()\n",
    "    for key in int_rate_asset_df_dict:\n",
    "        if key != 'fed_funds':\n",
    "            temp_resampled_df = int_rate_asset_df_dict[key][int_rate_asset_df_dict[key] != '.'].astype(\n",
    "                float).resample('MS').mean()\n",
    "            # merging resampled df with resampled fed df since it acts as features for timeseries\n",
    "            resampled_df_dict[key] = pd.merge(\n",
    "                temp_resampled_df, resampled_fed_df, left_index=True, right_index=True)\n",
    "\n",
    "    return resampled_df_dict"
   ]
  },
  {
   "cell_type": "code",
   "execution_count": 6,
   "metadata": {
    "ExecuteTime": {
     "end_time": "2020-05-16T19:47:46.404030Z",
     "start_time": "2020-05-16T19:47:46.394057Z"
    }
   },
   "outputs": [],
   "source": [
    "def deepAR_data_preparation(asset_list, processed_df_dict, meant_for='training', fed_rate_change=None, context_len=None):\n",
    "    \"\"\"Function to convert input data to format required by gluonts library for deepAR models\n",
    "\n",
    "    Parameters:\n",
    "        asset_list : list of names of timeseries for training or inference,\n",
    "        processed_df_dict : dictionary of all interest rate dataframes,\n",
    "        meant_for : purpose of data preparation - training or inference,\n",
    "        fed_rate_change : change in Fed rate (in bps),\n",
    "        context_len : length of previous timesteps required for training or inference\n",
    "\n",
    "    Returns:\n",
    "        train_data : dataset in gluonts friendly format for training deepAR model  \n",
    "        inference_data : dictionary of data in gluonts friendly format for inference by deepAR model \n",
    "    \"\"\"\n",
    "    # data preparation to train deepAR model\n",
    "    if meant_for == 'training':\n",
    "\n",
    "        # variables as required by deepAR model\n",
    "        target = []    # timeseries array\n",
    "        start = []     # timestamp of 1st element in timeseries\n",
    "        features = []  # feature array to supplement timeseries array\n",
    "\n",
    "        # for each asset in list of assets\n",
    "        for asset in asset_list:\n",
    "            target.append(\n",
    "                processed_df_dict[asset].iloc[:, 0].values.reshape(1, -1)[0])\n",
    "            start.append(processed_df_dict[asset].index[0])\n",
    "            features.append(\n",
    "                processed_df_dict[asset].iloc[:, 1].values.reshape(1, -1))\n",
    "        # gluonts data format\n",
    "        train_data = ListDataset([{'target': target[i], 'start': start[i], 'feat_dynamic_real':features[i]\n",
    "                                   } for i in range(len(asset_list))], freq='MS')\n",
    "        inference_data = None\n",
    "\n",
    "    # data preparation for deepAR model inference\n",
    "    if meant_for == 'inference':\n",
    "\n",
    "        # dictionary of timeseries in gluonts format for inference\n",
    "        inference_data = dict()\n",
    "\n",
    "        # for each asset in list of assets\n",
    "        for asset in asset_list:\n",
    "\n",
    "            target = processed_df_dict[asset].iloc[-context_len:,\n",
    "                                                   0].values.reshape(1, -1)[0]\n",
    "            start = processed_df_dict[asset].iloc[-context_len:, :].index[0]\n",
    "            # create new feature by adding change in fed fund rate to last fed fund rate\n",
    "            new_feature = processed_df_dict[asset].iloc[-context_len:,\n",
    "                                                        1][-1] + float(fed_rate_change/100)\n",
    "            features = np.append(\n",
    "                processed_df_dict[asset].iloc[-context_len:, 1].values, new_feature).reshape(1, -1)\n",
    "            # gluonts data format\n",
    "            inference_data[asset] = ListDataset([{'target': target, 'start': start, 'feat_dynamic_real': features\n",
    "                                                  }], freq='MS')\n",
    "            train_data = None\n",
    "\n",
    "    return train_data or inference_data"
   ]
  },
  {
   "cell_type": "code",
   "execution_count": 7,
   "metadata": {
    "ExecuteTime": {
     "end_time": "2020-05-16T19:47:46.414003Z",
     "start_time": "2020-05-16T19:47:46.407022Z"
    }
   },
   "outputs": [],
   "source": [
    "def deepAR_model_train(int_rate_asset_dict, param_dict, processed_df_dict):\n",
    "    \"\"\"Trains a global deepAR model for each asset category and saves it locally\n",
    "    \n",
    "    Parameters:\n",
    "        int_rate_asset_dict : dictionary containing list of assets of each asset category\n",
    "        param_dict : parameters for deepAR model; imported from config file\n",
    "        processed_df_dict : dictionary of pre-processed dataframes\n",
    "        \n",
    "    Returns:\n",
    "        None\n",
    "    \"\"\"\n",
    "    # build and save deepAR model for different asset category\n",
    "    for asset_category, asset_list in int_rate_asset_dict.items():\n",
    "\n",
    "        # converts data to gluonts library friendly format\n",
    "        train_data = deepAR_data_preparation(\n",
    "            asset_list, processed_df_dict, meant_for='training')\n",
    "\n",
    "        # define parameters for model\n",
    "        estimator = DeepAREstimator(freq=param_dict[asset_category]['freq'],\n",
    "                                    prediction_length=param_dict[asset_category]['prediction_length'],\n",
    "                                    context_length=param_dict[asset_category]['context_length'],\n",
    "                                    num_layers=param_dict[asset_category]['num_layers'],\n",
    "                                    num_cells=param_dict[asset_category]['num_cells'],\n",
    "                                    use_feat_dynamic_real=param_dict[asset_category]['use_feat_dynamic_real'],\n",
    "                                    trainer=Trainer(ctx=param_dict[asset_category]['ctx'],\n",
    "                                                    epochs=param_dict[asset_category]['epochs'],\n",
    "                                                    learning_rate=param_dict[asset_category]['learning_rate'],\n",
    "                                                    batch_size=param_dict[asset_category]['batch_size'],\n",
    "                                                    num_batches_per_epoch=param_dict[\n",
    "                                                        asset_category]['num_batches_per_epoch']\n",
    "                                                    ))\n",
    "\n",
    "        # train the model\n",
    "        predictor = estimator.train(train_data)\n",
    "\n",
    "        # save the trained model\n",
    "        model_path = param_dict[asset_category]['model_path']\n",
    "        if not os.path.exists(model_path):\n",
    "            os.makedirs(model_path)\n",
    "        predictor.serialize(Path(model_path))"
   ]
  },
  {
   "cell_type": "code",
   "execution_count": null,
   "metadata": {},
   "outputs": [],
   "source": []
  },
  {
   "cell_type": "code",
   "execution_count": 8,
   "metadata": {
    "ExecuteTime": {
     "end_time": "2020-05-16T19:47:46.423977Z",
     "start_time": "2020-05-16T19:47:46.415998Z"
    }
   },
   "outputs": [],
   "source": [
    "def model_inference(fed_rate_change, asset_to_update, int_rate_asset_dict, processed_df_dict,\n",
    "                    maturity_dict=maturity_dict, param_dict=param_dict):\n",
    "    \"\"\"Function loads pre-trained interest rate models for different asset categories and predicts the next expected value\n",
    "    along with confidence intervals for each prediction\n",
    "\n",
    "    Parameters:\n",
    "        fed_rate_change : Fed fund rate change in basis points\n",
    "        asset_to_update : asset to be forecasted\n",
    "        int_rate_asset_dict : dictionary containing list of assets of each asset category\n",
    "        processed_df_dict : dictionary of pre-processed dataframes\n",
    "        maturity_dict : dictionary to map assets to their maturity dates. Default values are from config file\n",
    "        param_dict : dictionary to map asset name to their csv file names. Default values are from config file\n",
    "    \n",
    "    Returns:\n",
    "        forecast_dict : dictionary of forecasted values with upper and lower bounds for confidence interval\n",
    "    \n",
    "    \"\"\"\n",
    "    # list of assets to be forecatsed\n",
    "    asset_list = int_rate_asset_dict[asset_to_update]\n",
    "\n",
    "    # data dictionary for inference in gluonts required format\n",
    "    inference_data_dict = deepAR_data_preparation(asset_list, processed_df_dict,\n",
    "                                                  meant_for='inference', fed_rate_change=fed_rate_change,\n",
    "                                                  context_len=param_dict[asset_to_update]['context_length'])\n",
    "\n",
    "    # load pre-trained deepAR model to forecast next value\n",
    "    predictor = Predictor.deserialize(Path.cwd().joinpath(\"assets\").joinpath(\"models\").joinpath(asset_to_update + '_model'))\n",
    "\n",
    "    # dictionary of forecasted values\n",
    "    forecast_dict = dict()\n",
    "\n",
    "    # forecast next value for each timeseries in the asset category\n",
    "    for inference_data_key in inference_data_dict:\n",
    "\n",
    "        # calculate predicted value and 90 % confidence intervals\n",
    "        forecast_ = list(predictor.predict(\n",
    "            inference_data_dict.get(inference_data_key), num_samples=300))\n",
    "        median_value = forecast_[0].quantile(0.50)[0]\n",
    "        # lower bound of 90% confidence interval\n",
    "        lower_bound = forecast_[0].quantile(0.05)[0]\n",
    "        # upper bound of 90% confidence interval\n",
    "        upper_bound = forecast_[0].quantile(0.95)[0]\n",
    "\n",
    "        # get timeseries maturity\n",
    "        maturity = maturity_dict.get(inference_data_key.split('_')[1])\n",
    "\n",
    "        # update forecast dictionary\n",
    "        forecast_dict.update({\n",
    "            maturity: {\n",
    "                'median_value': median_value,\n",
    "                'lower_bound': lower_bound,\n",
    "                'upper_bound': upper_bound\n",
    "            }\n",
    "        })\n",
    "\n",
    "    return forecast_dict"
   ]
  },
  {
   "cell_type": "markdown",
   "metadata": {},
   "source": [
    "###### Note:\n",
    "1. DeepAR models are not fully optimized yet (especially swap rate curve, due to lack of sufficient data)\n",
    "2. Forecast performance can be improved by\n",
    "    1. More training data\n",
    "        - Since swap rates data has been resampled into monthly frequency, there are around 250 resampled datapoints combining all the given swap rates assets data, which is insufficient to train the model. To mitigate the data issue, model can be trained on daily or weekly frequency, in which case the resulting expected yield curve cannot be compared with corporate bond yield curves having monthly frequency \n",
    "    2. Adding additional features:\n",
    "        - Credit Spread of US investment grade corporate bonds\n",
    "        - Slope of terms, which is the yield on 10-year Treasury bonds minus yield on 2-year Treasury bonds\n",
    "        - Cboe volatility index on the S&P 500 index\n",
    "        - Return on the S&P 500 stock index\n",
    "        - Cboe SKEW Index (\"SKEW\"), an index derived from the price of SP 500 tail risk\n",
    "    3. Building 2 separate models for each asset category (eg: one model for maturity less than 3 years and one for longer    maturity period). This can help as short-term maturity rates are more sensitive to fed rate changes\n",
    "\n",
    "3. Interest rates of various assets can also be impacted by credit spreads. Credit spreads can be modelled based \n",
    "   on the following paper by Rick (Yuankang) Xiong Et Al.\n",
    " - Forecasting Credit Spreads: A Machine Learning Approach : (https://www.iaqf.org/dev/files/UMich_Submartingale%20web.pdf)"
   ]
  },
  {
   "cell_type": "markdown",
   "metadata": {},
   "source": [
    "## Dashboard"
   ]
  },
  {
   "cell_type": "code",
   "execution_count": 9,
   "metadata": {
    "ExecuteTime": {
     "end_time": "2020-05-16T19:47:46.429961Z",
     "start_time": "2020-05-16T19:47:46.425973Z"
    }
   },
   "outputs": [],
   "source": [
    "def build_banner():\n",
    "    \"\"\"Function creates and sets header properties for the dashboard\"\"\"\n",
    "    \n",
    "    return html.Div(\n",
    "        id=\"banner\",\n",
    "        className=\"banner\",\n",
    "        children=[\n",
    "            html.Div(\n",
    "                id=\"banner-text\",\n",
    "                children=[\n",
    "                    html.H5(\"EFFECT OF FEDERAL FUNDS RATE CHANGE ON YIELD CURVES\")\n",
    "                ]\n",
    "            )\n",
    "        ]\n",
    "    )"
   ]
  },
  {
   "cell_type": "code",
   "execution_count": 10,
   "metadata": {
    "ExecuteTime": {
     "end_time": "2020-05-16T19:47:46.435979Z",
     "start_time": "2020-05-16T19:47:46.430958Z"
    }
   },
   "outputs": [],
   "source": [
    "def build_tabs():\n",
    "    \"\"\"Function creates tabs on dashboard\"\"\"\n",
    "\n",
    "    return html.Div(\n",
    "        id=\"tabs\",\n",
    "        className=\"tabs\",\n",
    "        children=[\n",
    "            dcc.Tabs(\n",
    "                id=\"app-tabs\",\n",
    "                value=\"tab2\",\n",
    "                className=\"custom-tabs\",\n",
    "                children=[\n",
    "                    dcc.Tab(\n",
    "                        id=\"hist-charts-tab\",\n",
    "                        label=\"Historical Interest Rate Charts\",\n",
    "                        value=\"tab1\",\n",
    "                        className=\"custom-tab\",\n",
    "                        selected_className=\"custom-tab--selected\",\n",
    "                    ),\n",
    "                    dcc.Tab(\n",
    "                        id=\"yield-chart-tab\",\n",
    "                        label=\"3D plots and Yield Curves\",\n",
    "                        value=\"tab2\",\n",
    "                        className=\"custom-tab\",\n",
    "                        selected_className=\"custom-tab--selected\",\n",
    "                    )\n",
    "                ]\n",
    "            )\n",
    "        ]\n",
    "    )"
   ]
  },
  {
   "cell_type": "code",
   "execution_count": 11,
   "metadata": {
    "ExecuteTime": {
     "end_time": "2020-05-16T19:47:46.442941Z",
     "start_time": "2020-05-16T19:47:46.436942Z"
    }
   },
   "outputs": [],
   "source": [
    "def default_tab_1_graph():\n",
    "    \"\"\"Function renders historical interest rate plot on the dashboard when plot 1 is selected\"\"\"\n",
    "    \n",
    "    return html.Div(\n",
    "        dcc.Graph(id='historical_graph',\n",
    "                  figure={'data': [\n",
    "                      {'x': int_rate_asset_df_dict['fed_funds'].index.astype(str), \n",
    "                       'y': int_rate_asset_df_dict['fed_funds'].values.reshape(1, -1)[0],\n",
    "                       'name':'Effective Fed Fund Rate'},\n",
    "                      {'x': int_rate_asset_df_dict['treasury_3yr'].index.astype(str), \n",
    "                       'y': int_rate_asset_df_dict['treasury_3yr'].values.reshape(1, -1)[0],\n",
    "                       'name':'3 Year Treasury Constant Maturity Rate'},                                 \n",
    "                  ], 'layout':go.Layout(\n",
    "                      showlegend=True,\n",
    "                      yaxis={'title': 'Percent'},\n",
    "                      xaxis = dict(\n",
    "                          rangeslider = dict(\n",
    "                              visible = True\n",
    "                          )\n",
    "                      )\n",
    "                  )\n",
    "             }\n",
    "         )\n",
    "    )"
   ]
  },
  {
   "cell_type": "code",
   "execution_count": 12,
   "metadata": {
    "ExecuteTime": {
     "end_time": "2020-05-16T19:47:46.449908Z",
     "start_time": "2020-05-16T19:47:46.444922Z"
    }
   },
   "outputs": [],
   "source": [
    "def build_tab_1():\n",
    "    \"\"\"Function defines and renders content on the dashboard when tab 1 is selected\"\"\"\n",
    "    \n",
    "    return [\n",
    "        html.Div(\n",
    "            id=\"tab-intro\",\n",
    "            children=html.P(\n",
    "                \"Historical interest rates plots\"\n",
    "            ),\n",
    "        ),\n",
    "        html.Div(\n",
    "            id=\"tab1-main\",\n",
    "            children=[\n",
    "                html.Div([\n",
    "                    html.Label('Select assets to compare historical interest rates:',\n",
    "                    ),\n",
    "                    dcc.Dropdown(\n",
    "                        id='asset-picker',\n",
    "                        options=[{'label': asset_name_dict.get(asset), 'value': asset}\n",
    "                                 for asset in asset_name_dict],\n",
    "                        value=['fed_funds','treasury_3yr'],\n",
    "                        multi=True\n",
    "                    )\n",
    "                ]),\n",
    "                # add default historical graph to dashboard view, when clicked on tab 1\n",
    "                default_tab_1_graph(),\n",
    "            ]\n",
    "        )\n",
    "    ]"
   ]
  },
  {
   "cell_type": "code",
   "execution_count": 13,
   "metadata": {
    "ExecuteTime": {
     "end_time": "2020-05-16T19:47:46.463922Z",
     "start_time": "2020-05-16T19:47:46.450906Z"
    }
   },
   "outputs": [],
   "source": [
    "def build_3d_plot(asset_to_plot):\n",
    "    \"\"\"Function renders 3d plot on the dashboard\n",
    "    \n",
    "    Parameters:\n",
    "        asset_to_plot : specifies asset category for which 3d plots needs to be rendered \n",
    "        \n",
    "    Returns:\n",
    "        figure : 3d plot for required asset category\n",
    "    \"\"\"\n",
    "    asset_category_to_plot = asset_to_plot\n",
    "\n",
    "    # x-axis\n",
    "    x_axis = []\n",
    "    asset_maturity = [asset.split(\n",
    "        \"_\")[1] for asset in int_rate_asset_dict[asset_category_to_plot]]\n",
    "    for key in maturity_dict:\n",
    "        if key in asset_maturity:\n",
    "            x_axis.append(maturity_dict[key])\n",
    "\n",
    "    # y and z axis\n",
    "    # build a dataframe with maturity period as column name of corresponding timeseries\n",
    "    y_z_axis_df = pd.DataFrame()\n",
    "    for asset in int_rate_asset_dict[asset_category_to_plot]:\n",
    "\n",
    "        if y_z_axis_df.empty:\n",
    "            y_z_axis_df = processed_df_dict[asset].iloc[:, 0:1]\n",
    "            y_z_axis_df.columns = [maturity_dict[asset.split(\"_\")[1]]]\n",
    "        else:\n",
    "            temp_df = processed_df_dict[asset].iloc[:, 0:1]\n",
    "            temp_df.columns = [maturity_dict[asset.split(\"_\")[1]]]\n",
    "            y_z_axis_df = pd.merge(y_z_axis_df, temp_df,\n",
    "                                   left_index=True, right_index=True)\n",
    "\n",
    "    # rearrange above df such that columns have increasing maturity period\n",
    "    y_z_axis_df = y_z_axis_df[x_axis]\n",
    "\n",
    "    # y-axis\n",
    "    y_axis = y_z_axis_df.index\n",
    "\n",
    "    # z-axis\n",
    "    z_axis = y_z_axis_df.values\n",
    "\n",
    "    data = [go.Surface(z=z_axis, x=x_axis, y=y_axis,\n",
    "                       showscale=False,\n",
    "                       colorscale=[[0, \"rgb(230,245,254)\"], [0.4, \"rgb(123,171,203)\"],\n",
    "                                   [0.8, \"rgb(40,119,174)\"], [1, \"rgb(37,61,81)\"]],\n",
    "                       opacity=0.75)]\n",
    "    layout = go.Layout(margin=dict(l=5, r=5, b=5, t=5),\n",
    "                       autosize=True,\n",
    "                       scene=dict(aspectmode=\"manual\",\n",
    "                                  aspectratio=dict(x=0.75, y=2, z=0.5),\n",
    "                                  xaxis={\"title\": \"Maturity\", \"showbackground\": False,\n",
    "                                         \"gridcolor\": \"rgb(84,84,84)\",\"categoryorder\": 'array',\n",
    "                                         \"categoryarray\": list(reversed(x_axis))},\n",
    "                                  yaxis={\"title\": \"Timestamp\",\"showbackground\": False,\n",
    "                                         \"gridcolor\": \"rgb(84,84,84)\"},\n",
    "                                  zaxis={\"title\": \"Interest rates\", \"showbackground\": False,\n",
    "                                         \"gridcolor\": \"rgb(84,84,84)\"},\n",
    "                                 ),\n",
    "                       title={\"text\":\"3D Yield Curve Surface Plot\",\n",
    "                              'yanchor': 'top',\"x\":0.3}                                  \n",
    "                       )\n",
    "    # define a plotly figure\n",
    "    figure = go.Figure(data=data, layout=layout)\n",
    "\n",
    "    return figure"
   ]
  },
  {
   "cell_type": "code",
   "execution_count": 14,
   "metadata": {
    "ExecuteTime": {
     "end_time": "2020-05-16T19:47:46.476836Z",
     "start_time": "2020-05-16T19:47:46.464867Z"
    }
   },
   "outputs": [],
   "source": [
    "def build_yield_plot(asset_to_plot,fed_rate_change):\n",
    "    \"\"\"Function renders yield plot on the dashboard\n",
    "    \n",
    "    Parameters:\n",
    "        asset_to_plot : specifies asset category for which yield plot needs to be rendered \n",
    "        fed_rate_change : expected effective fed fund rate change\n",
    "        \n",
    "    Returns:\n",
    "        figure : yield plot for required asset category\n",
    "    \"\"\"\n",
    "    asset_category_to_plot = asset_to_plot\n",
    "\n",
    "    # x-axis\n",
    "    x_list = []\n",
    "    asset_maturity = [asset.split(\n",
    "        \"_\")[1] for asset in int_rate_asset_dict[asset_category_to_plot]]\n",
    "    for key in maturity_dict:\n",
    "        if key in asset_maturity:\n",
    "            x_list.append(maturity_dict[key])\n",
    "    \n",
    "    # latest y-axis values\n",
    "    y_dict = dict()\n",
    "    for asset in int_rate_asset_dict[asset_category_to_plot]:\n",
    "        dict_key = maturity_dict[asset.split('_')[1]]\n",
    "        y_dict[dict_key] = processed_df_dict[asset].iloc[-1,0]\n",
    "\n",
    "    # y axis list for corresponing x axis values\n",
    "    y_list = list()\n",
    "    for x in x_list:\n",
    "        y_list.append(y_dict[x])\n",
    "\n",
    "    # expected yield curve values on Fed rate change    \n",
    "    exp_yield_vals_dict = model_inference(fed_rate_change=fed_rate_change, \n",
    "                                          asset_to_update=asset_to_plot,\n",
    "                                          int_rate_asset_dict=int_rate_asset_dict,\n",
    "                                          processed_df_dict=processed_df_dict)\n",
    "\n",
    "    # expected y-axis values on fed rate change    \n",
    "    y_expected = []\n",
    "    y_upper = []\n",
    "    y_lower = []\n",
    "    for x in x_list:\n",
    "        y_expected.append(exp_yield_vals_dict.get(x).get('median_value'))\n",
    "        y_upper.append(exp_yield_vals_dict.get(x).get('upper_bound'))\n",
    "        y_lower.append(exp_yield_vals_dict.get(x).get('lower_bound'))\n",
    "\n",
    "    # creating a yield plot\n",
    "    fig = go.Figure()\n",
    "    fig.add_trace(go.Scatter(x=x_list, y=y_list,\n",
    "                             mode='lines+markers',\n",
    "                             name='Current Yield Curve'\n",
    "                            )\n",
    "                 )\n",
    "\n",
    "    fig.add_trace(go.Scatter(x=x_list, y=y_expected,\n",
    "                             line_color='rgb(0,100,80)',\n",
    "                             name='Expected Yield Curve',\n",
    "                             mode='lines+markers'\n",
    "                            )\n",
    "                 )\n",
    "\n",
    "    fig.add_trace(go.Scatter(x=x_list, y=y_upper,\n",
    "                             line_color='#d9ffe0',\n",
    "                             name='Upper Yield Curve',\n",
    "                             showlegend=False,\n",
    "                             mode='lines'\n",
    "                            )\n",
    "                 )\n",
    "\n",
    "    fig.add_trace(go.Scatter(x=x_list, y=y_lower,\n",
    "                             line_color='#d9ffe0',\n",
    "                             name='Lower Yield Curve',\n",
    "                             fill='tonexty',\n",
    "                             showlegend=False,\n",
    "                             mode='lines'\n",
    "                            )\n",
    "                 )\n",
    "\n",
    "    fig.update_layout({\"plot_bgcolor\":'#ffffff',\n",
    "                       \"title\":{\n",
    "                           \"text\":\"Expected Yield Curve with 90% Confidence Band\",\n",
    "                           'xanchor': 'left','yanchor': 'top'\n",
    "                       },\n",
    "                      \"xaxis\":{\n",
    "                          \"showgrid\":True,\n",
    "                          \"gridcolor\":\"rgb(84,84,84)\"\n",
    "                      },\n",
    "                      \"yaxis\":{\n",
    "                          \"showgrid\":True,\n",
    "                          \"gridcolor\":\"rgb(84,84,84)\"\n",
    "                      },\n",
    "                      \"yaxis_title\":\"Percentage\",\n",
    "                      \"xaxis_title\":\"Maturity\"\n",
    "                      }\n",
    "                     )\n",
    "    \n",
    "    return fig"
   ]
  },
  {
   "cell_type": "code",
   "execution_count": 15,
   "metadata": {
    "ExecuteTime": {
     "end_time": "2020-05-16T19:47:46.483854Z",
     "start_time": "2020-05-16T19:47:46.477832Z"
    }
   },
   "outputs": [],
   "source": [
    "def build_treasury_plots():\n",
    "    \"\"\"Functions renders treasury constant maturity rate plots when tab 2 is selected\"\"\"\n",
    "    \n",
    "    return [\n",
    "        dcc.Graph(id='treasury-3d-plot',\n",
    "                  className='plot-3d',\n",
    "                  figure=build_3d_plot('treasury_yield')),\n",
    "        html.Div(\n",
    "            id='treasury-yield-section',\n",
    "            className='yield-plot',\n",
    "            children=[\n",
    "                html.Div(\n",
    "                className='input-fed-change',\n",
    "                children=[\n",
    "                    html.Label(className = \"rate-change-description-text\",\n",
    "                               children=\"Expected Fed fund rate change(in bps):  \"),\n",
    "                    dcc.Input(\n",
    "                        id='treasury-fed-input',\n",
    "                        placeholder='Enter a value',\n",
    "                        type=\"number\",\n",
    "                        value=100\n",
    "                    ),\n",
    "                    html.Button('Submit', id='treasury-button',n_clicks=0)           \n",
    "                ]),\n",
    "                dcc.Graph(id='treasury-yield-plot',\n",
    "                  figure=build_yield_plot(fed_rate_change=100,asset_to_plot='treasury_yield')),   \n",
    "            ]\n",
    "        )\n",
    "    ]"
   ]
  },
  {
   "cell_type": "code",
   "execution_count": 16,
   "metadata": {
    "ExecuteTime": {
     "end_time": "2020-05-16T19:47:46.490798Z",
     "start_time": "2020-05-16T19:47:46.484814Z"
    }
   },
   "outputs": [],
   "source": [
    "def build_corp_bond_plots():\n",
    "    \"\"\"Functions renders corporate bond spot rate plots when tab 2 is selected\"\"\"\n",
    "    \n",
    "    return [\n",
    "        dcc.Graph(id='corp-bond-3d-plot',\n",
    "                  className='plot-3d',\n",
    "                  figure=build_3d_plot('corp_bond_yield')\n",
    "                  ),\n",
    "        html.Div(\n",
    "            id='corp-bond-yield-section',\n",
    "            className='yield-plot',\n",
    "            children=[\n",
    "                html.Div(\n",
    "                className='input-fed-change',\n",
    "                children=[\n",
    "                    html.Label(className = \"rate-change-description-text\",\n",
    "                               children=\"Expected Fed fund rate change(in bps):  \"),\n",
    "                    dcc.Input(\n",
    "                        id='corp-bond-fed-input',\n",
    "                        placeholder='Enter a value',\n",
    "                        type=\"number\",\n",
    "                        value=100\n",
    "                    ),\n",
    "                    html.Button('Submit', id='corp-bond-button',n_clicks=0)           \n",
    "                ]),\n",
    "                dcc.Graph(id='corp-bond-yield-plot',\n",
    "                          figure=build_yield_plot(fed_rate_change=100,asset_to_plot='corp_bond_yield')\n",
    "                         ), \n",
    "            ]\n",
    "        )\n",
    "    ]"
   ]
  },
  {
   "cell_type": "code",
   "execution_count": 17,
   "metadata": {
    "ExecuteTime": {
     "end_time": "2020-05-16T19:47:46.497780Z",
     "start_time": "2020-05-16T19:47:46.491796Z"
    }
   },
   "outputs": [],
   "source": [
    "def build_swap_plots():\n",
    "    \"\"\"Functions renders swap rate plots when tab 2 is selected\"\"\"\n",
    "\n",
    "    return [\n",
    "        dcc.Graph(id='swap-3d-plot',\n",
    "                  className='plot-3d',\n",
    "                  figure=build_3d_plot('swap_rate')),\n",
    "        html.Div(\n",
    "            id='swap-rate-section',\n",
    "            className='yield-plot',\n",
    "            children=[\n",
    "                html.Div(\n",
    "                    className='input-fed-change',\n",
    "                    children=[\n",
    "                        html.Label(className=\"rate-change-description-text\",\n",
    "                                   children=\"Expected Fed fund rate change(in bps):  \"),\n",
    "                        dcc.Input(\n",
    "                            id='swap-fed-input',\n",
    "                            placeholder='Enter a value',\n",
    "                            type=\"number\",\n",
    "                            value=100\n",
    "                        ),\n",
    "                        html.Button('Submit', id='swap-button',n_clicks=0)\n",
    "                    ]),\n",
    "                dcc.Graph(id='swap-rate-plot',\n",
    "                          figure=build_yield_plot(fed_rate_change=100,asset_to_plot='swap_rate'))\n",
    "\n",
    "            ]\n",
    "\n",
    "        )\n",
    "    ]"
   ]
  },
  {
   "cell_type": "code",
   "execution_count": 18,
   "metadata": {
    "ExecuteTime": {
     "end_time": "2020-05-16T19:47:46.506790Z",
     "start_time": "2020-05-16T19:47:46.498776Z"
    }
   },
   "outputs": [],
   "source": [
    "def build_tab_2():\n",
    "    \"\"\"Function defines and renders content on the dashboard when tab 2 is selected\"\"\"\n",
    "\n",
    "    return [\n",
    "        html.Div(\n",
    "            id=\"tab-intro\",\n",
    "            children=html.Label(\n",
    "                \"3D surface plots of historical interest rates and corresponding expected yield curves\"\n",
    "            ),\n",
    "        ),\n",
    "        html.Div(\n",
    "            id=\"tab2-main\",\n",
    "            children=[\n",
    "                # treasury rate plots section\n",
    "                html.Div(\n",
    "                    id=\"treasury-plots\",\n",
    "                    className='plots',\n",
    "                    children=[\n",
    "                        html.Div(\n",
    "                            id=\"treasury-plots-title\",\n",
    "                            className=\"plot-category\",\n",
    "                            children=[html.Label(id=\"treasury-plots-title-text\", \n",
    "                                                 children=\"Treasury Constant Maturity Rate\")]\n",
    "                        ),\n",
    "                        html.Div(\n",
    "                        id='treasury-plots-main',\n",
    "                        children= build_treasury_plots()\n",
    "                        )\n",
    "                    ]\n",
    "                ),\n",
    "                html.Br(),\n",
    "                # corporate bond spot rate plots section\n",
    "                html.Div(\n",
    "                    id=\"corp-bond-plots\",\n",
    "                    className='plots',\n",
    "                    children=[\n",
    "                        html.Div(\n",
    "                            id=\"corp-bond-plots-title\",\n",
    "                            className=\"plot-category\",\n",
    "                            children=[html.Label(id=\"corp-bond-plots-title-text\", \n",
    "                                                 children=\"Corporate Bond Spot Rate\")]\n",
    "                        ),\n",
    "                        html.Div(\n",
    "                            id='corp-bond-plots-main',\n",
    "                            children = build_corp_bond_plots()\n",
    "                        )\n",
    "                    ]\n",
    "                ),\n",
    "                html.Br(),\n",
    "                # swap rate plots section\n",
    "                html.Div(\n",
    "                    id=\"swap-plots\",\n",
    "                    className='plots',\n",
    "                    children=[\n",
    "                        html.Div(\n",
    "                            id=\"swap-plots-title\",\n",
    "                            className=\"plot-category\",\n",
    "                            children=[html.Label(id=\"swap-plots-title-text\", \n",
    "                                                children=\"Interest Rate Swaps\")]\n",
    "                        ),\n",
    "                        html.Div(\n",
    "                        id='swap-plots-main',\n",
    "                        children= build_swap_plots()\n",
    "                        )\n",
    "                    ]\n",
    "                )\n",
    "            ]\n",
    "        )\n",
    "    ]\n",
    " "
   ]
  },
  {
   "cell_type": "code",
   "execution_count": 19,
   "metadata": {
    "ExecuteTime": {
     "end_time": "2020-05-16T19:47:46.512807Z",
     "start_time": "2020-05-16T19:47:46.507753Z"
    }
   },
   "outputs": [],
   "source": [
    "# define dashboard layout\n",
    "\n",
    "def build_app_layout():\n",
    "    return html.Div(       \n",
    "            id = \"big-app-container\",\n",
    "            children=[\n",
    "                build_banner(),\n",
    "                html.Div(\n",
    "                    id = \"app-container\",\n",
    "                    children=[\n",
    "                        build_tabs(),\n",
    "                        # main app\n",
    "                        html.Div(\n",
    "                            id=\"app-content\",\n",
    "                        )\n",
    "                    ]\n",
    "                )\n",
    "            ]\n",
    "        )\n"
   ]
  },
  {
   "cell_type": "markdown",
   "metadata": {},
   "source": [
    "callback functions of dash use special decorators and it requires dash app to be instantiated before executing them"
   ]
  },
  {
   "cell_type": "code",
   "execution_count": 20,
   "metadata": {
    "ExecuteTime": {
     "end_time": "2020-05-16T19:47:46.521744Z",
     "start_time": "2020-05-16T19:47:46.513736Z"
    }
   },
   "outputs": [],
   "source": [
    "# instantiate dash app\n",
    "app = dash.Dash(__name__)\n",
    "# supress any exception by callback during initialization\n",
    "app.config.suppress_callback_exceptions = True"
   ]
  },
  {
   "cell_type": "code",
   "execution_count": 21,
   "metadata": {
    "ExecuteTime": {
     "end_time": "2020-05-16T19:47:46.526732Z",
     "start_time": "2020-05-16T19:47:46.522712Z"
    }
   },
   "outputs": [],
   "source": [
    "# callback to update dashboard based on tab selection\n",
    "@app.callback(\n",
    "    Output(\"app-content\", \"children\"),\n",
    "    [Input(\"app-tabs\", \"value\")]\n",
    ")\n",
    "def render_tab_content(tab_switch):\n",
    "    \"\"\"Function to render content based on selected tab\"\"\"\n",
    "\n",
    "    if tab_switch == \"tab2\":\n",
    "        return build_tab_2()\n",
    "    else:\n",
    "        return build_tab_1()"
   ]
  },
  {
   "cell_type": "code",
   "execution_count": 22,
   "metadata": {
    "ExecuteTime": {
     "end_time": "2020-05-16T19:47:46.534682Z",
     "start_time": "2020-05-16T19:47:46.529693Z"
    }
   },
   "outputs": [],
   "source": [
    "# callback to update historical chart based on selected assets\n",
    "@app.callback(Output('historical_graph', 'figure'),\n",
    "              [Input('asset-picker', 'value')])\n",
    "def update_hist_rate_fig(assets):\n",
    "    \"\"\"Function to render plot based on selected asset\"\"\"\n",
    "    \n",
    "    traces = []\n",
    "    for tic in assets:\n",
    "        # get dataframe of the asset\n",
    "        df = int_rate_asset_df_dict.get(tic)\n",
    "        # get asset name by its symbol\n",
    "        tic_name = asset_name_dict.get(tic)\n",
    "        try:\n",
    "            traces.append({'x': df.index.astype(str), 'y': (\n",
    "                df.values.reshape(1, -1)[0]), 'name': tic_name})\n",
    "        except:\n",
    "            pass\n",
    "\n",
    "    fig = {\n",
    "        'data': traces,\n",
    "        'layout': {\n",
    "            'title': assets,\n",
    "            'yaxis': {'title': 'Percent'},\n",
    "            'xaxis': {'rangeslider': {'visible': True}}\n",
    "        }\n",
    "    }\n",
    "    return fig"
   ]
  },
  {
   "cell_type": "code",
   "execution_count": 23,
   "metadata": {
    "ExecuteTime": {
     "end_time": "2020-05-16T19:47:46.540666Z",
     "start_time": "2020-05-16T19:47:46.535678Z"
    }
   },
   "outputs": [],
   "source": [
    "# callback to update treasury yield curves with new expected fed fund rate change\n",
    "@app.callback(Output('treasury-yield-plot', 'figure'),\n",
    "              [Input('treasury-button', 'n_clicks')],\n",
    "             [State('treasury-fed-input','value')])\n",
    "def update_treasury_yield_plot(n_clicks,rate_change):\n",
    "    \"\"\"Function to update treasury yield plot based on expected Fed rate change\"\"\"\n",
    "    \n",
    "    return build_yield_plot(fed_rate_change=rate_change,asset_to_plot='treasury_yield')"
   ]
  },
  {
   "cell_type": "code",
   "execution_count": 24,
   "metadata": {
    "ExecuteTime": {
     "end_time": "2020-05-16T19:47:46.546650Z",
     "start_time": "2020-05-16T19:47:46.541663Z"
    }
   },
   "outputs": [],
   "source": [
    "# callback to update corp bond spot yield curves with new expected fed fund rate change\n",
    "@app.callback(Output('corp-bond-yield-plot', 'figure'),\n",
    "              [Input('corp-bond-button', 'n_clicks')],\n",
    "             [State('corp-bond-fed-input','value')])\n",
    "def update_corp_bond_yield_plot(n_clicks,rate_change):\n",
    "    \"\"\"Function to update corporate bond yield plot based on expected Fed rate change\"\"\"\n",
    "    \n",
    "    return build_yield_plot(fed_rate_change=rate_change,asset_to_plot='corp_bond_yield')"
   ]
  },
  {
   "cell_type": "code",
   "execution_count": 25,
   "metadata": {
    "ExecuteTime": {
     "end_time": "2020-05-16T19:47:46.553675Z",
     "start_time": "2020-05-16T19:47:46.547645Z"
    }
   },
   "outputs": [],
   "source": [
    "# callback to update swap rate curve with new expected fed fund rate change\n",
    "@app.callback(Output('swap-rate-plot', 'figure'),\n",
    "              [Input('swap-button', 'n_clicks')],\n",
    "             [State('swap-fed-input','value')])\n",
    "def update_swap_rate_plot(n_clicks,rate_change):\n",
    "    \"\"\"Function to update swap rate curve based on expected Fed rate change\"\"\"\n",
    "    \n",
    "    return build_yield_plot(fed_rate_change=rate_change,asset_to_plot='swap_rate')"
   ]
  },
  {
   "cell_type": "code",
   "execution_count": null,
   "metadata": {},
   "outputs": [],
   "source": []
  },
  {
   "cell_type": "markdown",
   "metadata": {},
   "source": [
    "### Main()"
   ]
  },
  {
   "cell_type": "code",
   "execution_count": null,
   "metadata": {
    "ExecuteTime": {
     "start_time": "2020-05-16T19:47:42.012Z"
    },
    "scrolled": false
   },
   "outputs": [
    {
     "name": "stdout",
     "output_type": "stream",
     "text": [
      "\n",
      "# =======import data=======\n",
      "\n",
      "# =======create dictionary of pre-processed dataframes=======\n",
      "\n",
      "# =======define app layout=======\n",
      "\n",
      "# =======run dash app server=======\n",
      "Dash is running on http://127.0.0.1:8050/\n",
      "\n"
     ]
    },
    {
     "name": "stderr",
     "output_type": "stream",
     "text": [
      "INFO:__main__:Dash is running on http://127.0.0.1:8050/\n",
      "\n"
     ]
    },
    {
     "name": "stdout",
     "output_type": "stream",
     "text": [
      " * Serving Flask app \"__main__\" (lazy loading)\n",
      " * Environment: production\n",
      "   WARNING: This is a development server. Do not use it in a production deployment.\n",
      "   Use a production WSGI server instead.\n",
      " * Debug mode: off\n"
     ]
    },
    {
     "name": "stderr",
     "output_type": "stream",
     "text": [
      "INFO:werkzeug: * Running on http://127.0.0.1:8050/ (Press CTRL+C to quit)\n"
     ]
    }
   ],
   "source": [
    "if __name__ == \"__main__\":\n",
    "\n",
    "    print(\"\\n# =======import data=======\")\n",
    "    int_rate_asset_df_dict,int_rate_asset_dict = import_data()\n",
    "    \n",
    "    print(\"\\n# =======create dictionary of pre-processed dataframes=======\")\n",
    "    processed_df_dict = pre_processing(int_rate_asset_df_dict)\n",
    "    \n",
    "#     print(\"\\n# =======train and save deepAR models for different asset categories=======\")\n",
    "#     deepAR_model_train(int_rate_asset_dict,param_dict,processed_df_dict)\n",
    "    \n",
    "    #print(\"\\n# =======forecast future values=======\")\n",
    "    #model_inference(fed_rate_change=100, asset_to_update='corp_bond_yield')\n",
    "    \n",
    "    #dash app has been initialized before executing callback functions\n",
    "    \n",
    "    print(\"\\n# =======define app layout=======\")\n",
    "    app.layout = build_app_layout()\n",
    "    \n",
    "    print(\"\\n# =======run dash app server=======\")   \n",
    "    app.run_server()"
   ]
  },
  {
   "cell_type": "code",
   "execution_count": null,
   "metadata": {},
   "outputs": [],
   "source": []
  }
 ],
 "metadata": {
  "kernelspec": {
   "display_name": "Python 3",
   "language": "python",
   "name": "python3"
  },
  "language_info": {
   "codemirror_mode": {
    "name": "ipython",
    "version": 3
   },
   "file_extension": ".py",
   "mimetype": "text/x-python",
   "name": "python",
   "nbconvert_exporter": "python",
   "pygments_lexer": "ipython3",
   "version": "3.7.4"
  }
 },
 "nbformat": 4,
 "nbformat_minor": 2
}
